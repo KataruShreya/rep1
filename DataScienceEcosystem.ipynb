{
 "cells": [
  {
   "cell_type": "markdown",
   "id": "3fa1c512",
   "metadata": {},
   "source": [
    "# H1:  Data Science Tools and Ecosystem"
   ]
  },
  {
   "cell_type": "markdown",
   "id": "7c7ad5c4",
   "metadata": {},
   "source": [
    "In this notebook, Data Science Tools and Ecosystem are summarized."
   ]
  },
  {
   "cell_type": "markdown",
   "id": "3bb54f8c",
   "metadata": {},
   "source": [
    "**Objectives:**\n",
    "- List popular languages for Data Science\n",
    "- List commonly used libraries by data scientists\n",
    "- Data Science tools\n",
    "- examples of evaluating arithmetic expressions in Python\n",
    "- executing a simple arithmetic expression to mutiply then add integers\n",
    "- convertig 200 minutes to hours by diving by 60"
   ]
  },
  {
   "cell_type": "markdown",
   "id": "5b697b13",
   "metadata": {},
   "source": [
    "Some of the popular languages that Data Scientists use are:\n",
    "1. Python\n",
    "2. R\n",
    "3. JAVA"
   ]
  },
  {
   "cell_type": "markdown",
   "id": "1779d411",
   "metadata": {},
   "source": [
    "Some of the commonly used libraries used by Data Scientists include:\n",
    "1. Pandas\n",
    "2. NumPy\n",
    "3. Matplotlib"
   ]
  },
  {
   "cell_type": "markdown",
   "id": "4b4955e8",
   "metadata": {},
   "source": [
    "|Data Science Tools|\n",
    "-----------------------------\n",
    "Apache Hadoop\n",
    "Apache Hive\n",
    "Apache Spark\n",
    "MySQL\n",
    "MongoDB\n",
    "Microsoft Visual Studio Code\n",
    "Jupyter Notebook\n"
   ]
  },
  {
   "cell_type": "markdown",
   "id": "fa9554c9",
   "metadata": {},
   "source": [
    "### H3: Below are a few examples of evaluating arithmetic expressions in Python\n",
    "1. 2+3         i.e addition\n",
    "2. 4-2         i.e subtraction\n",
    "3. 3*7         i.e multiplication\n",
    "4. 8/4         i.e division"
   ]
  },
  {
   "cell_type": "code",
   "execution_count": 3,
   "id": "4fb9ad30",
   "metadata": {},
   "outputs": [
    {
     "data": {
      "text/plain": [
       "17"
      ]
     },
     "execution_count": 3,
     "metadata": {},
     "output_type": "execute_result"
    }
   ],
   "source": [
    "#this a simple arithmetic expression to mutiply then add integers\n",
    "(3*4)+5"
   ]
  },
  {
   "cell_type": "code",
   "execution_count": 5,
   "id": "1b97ae0f",
   "metadata": {},
   "outputs": [
    {
     "name": "stdout",
     "output_type": "stream",
     "text": [
      "3.3333333333333335 hours\n"
     ]
    }
   ],
   "source": [
    "#This will convert 200 minutes to hours by diving by 60\n",
    "x = 200/60\n",
    "print(x,'hours')"
   ]
  },
  {
   "cell_type": "markdown",
   "id": "1e16f07c",
   "metadata": {},
   "source": [
    "## H2: Author:\n",
    "Shreya"
   ]
  },
  {
   "cell_type": "code",
   "execution_count": null,
   "id": "fce8cf0a",
   "metadata": {},
   "outputs": [],
   "source": []
  }
 ],
 "metadata": {
  "kernelspec": {
   "display_name": "Python 3 (ipykernel)",
   "language": "python",
   "name": "python3"
  },
  "language_info": {
   "codemirror_mode": {
    "name": "ipython",
    "version": 3
   },
   "file_extension": ".py",
   "mimetype": "text/x-python",
   "name": "python",
   "nbconvert_exporter": "python",
   "pygments_lexer": "ipython3",
   "version": "3.11.5"
  }
 },
 "nbformat": 4,
 "nbformat_minor": 5
}
